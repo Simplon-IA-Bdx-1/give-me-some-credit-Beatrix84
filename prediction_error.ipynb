{
 "cells": [
  {
   "cell_type": "markdown",
   "metadata": {},
   "source": [
    "## Error on the val set"
   ]
  },
  {
   "cell_type": "code",
   "execution_count": null,
   "metadata": {},
   "outputs": [],
   "source": [
    "# reading csv file\n",
    "from pandas import read_csv\n",
    "# importing pandas module  \n",
    "import pandas as pd\n",
    "\n",
    "import matplotlib.pyplot as plt\n",
    "\n",
    "df = read_csv('../handson-ml2/prediction_credit.csv', index_col=0)"
   ]
  },
  {
   "cell_type": "code",
   "execution_count": null,
   "metadata": {},
   "outputs": [],
   "source": [
    "df"
   ]
  },
  {
   "cell_type": "markdown",
   "metadata": {},
   "source": [
    "## Error column"
   ]
  },
  {
   "cell_type": "code",
   "execution_count": null,
   "metadata": {},
   "outputs": [],
   "source": [
    "#Create the error column/define the function to show the errors/use the df.apply to apply the function to all rows\n",
    "def function_matrix(row):\n",
    "    if row['SeriousDlqin2yrs'] == row['SeriousDlqin2yrs.1'] and row['SeriousDlqin2yrs'] == 0 :\n",
    "        val = \"TN\"\n",
    "    elif row['SeriousDlqin2yrs'] == row['SeriousDlqin2yrs.1'] and row['SeriousDlqin2yrs'] == 1 :\n",
    "        val = \"TP\"\n",
    "    elif row['SeriousDlqin2yrs'] > row['SeriousDlqin2yrs.1']:\n",
    "        val = \"FN\"\n",
    "    else:\n",
    "        val = \"FP\"\n",
    "    return val\n",
    "\n",
    "df['Error'] = df.apply(function_matrix, axis=1)\n"
   ]
  },
  {
   "cell_type": "code",
   "execution_count": null,
   "metadata": {},
   "outputs": [],
   "source": [
    "df"
   ]
  },
  {
   "cell_type": "markdown",
   "metadata": {},
   "source": [
    "## Confusion matrix"
   ]
  },
  {
   "cell_type": "code",
   "execution_count": null,
   "metadata": {},
   "outputs": [],
   "source": [
    "#Create a function to show the confusion matrix using the error column\n",
    "tn =0\n",
    "tp =0\n",
    "fn =0\n",
    "fp =0\n",
    "\n",
    "for value in df['Error']:\n",
    "    if value == 'TN':\n",
    "        tn +=1 \n",
    "    elif value == 'FN':\n",
    "        fn +=1\n",
    "    elif value == 'TP':\n",
    "        tp +=1\n",
    "    elif value == 'FP':\n",
    "        fp +=1 \n",
    "\n",
    "print('TN=',tn)\n",
    "print('FN=',fn)\n",
    "print('TP=',tp)\n",
    "print('FP=',fp)"
   ]
  },
  {
   "cell_type": "markdown",
   "metadata": {},
   "source": [
    "## Optimisation of classification threshold"
   ]
  },
  {
   "cell_type": "markdown",
   "metadata": {},
   "source": [
    "### Find the 100 most important errors"
   ]
  },
  {
   "cell_type": "code",
   "execution_count": null,
   "metadata": {},
   "outputs": [],
   "source": [
    "#Create an abs column/Desc Order the column/Create and export the first 100 errors\n",
    "df['absolute_error'] = (df['1 probability']-df['SeriousDlqin2yrs.1']).abs()\n",
    "desc_order = df.sort_values(by='absolute_error', ascending=False).head(100)\n",
    "desc_order.to_csv('100_credit_errors.csv')"
   ]
  },
  {
   "cell_type": "code",
   "execution_count": null,
   "metadata": {
    "scrolled": true
   },
   "outputs": [],
   "source": [
    "df"
   ]
  },
  {
   "cell_type": "markdown",
   "metadata": {},
   "source": [
    "### Create gain/lost table to obtain the best threshold"
   ]
  },
  {
   "cell_type": "code",
   "execution_count": null,
   "metadata": {},
   "outputs": [],
   "source": [
    "#Create a function to calculate the gain/lost and create a table\n",
    "def cost_threshold(threshold):\n",
    "    prediction_threshold = df['1 probability'] > threshold #if the 1-probability is higher than threshold\n",
    "\n",
    "    #~ = \"not\" for tables / & = \"and\" for tables / | = \"or\" for tables\n",
    "\n",
    "    P_pred = prediction_threshold\n",
    "    N_pred = ~prediction_threshold\n",
    "    \n",
    "    #P_real:do not rembourse the credit\n",
    "    #N_real: do rembourse the credit\n",
    "    P_real = (df['SeriousDlqin2yrs'] == 1)\n",
    "    N_real = (df['SeriousDlqin2yrs'] == 0)\n",
    "    \n",
    "    #Confusion matrix df.loc to localize the row and apply the function through the lenght to finally have the numbers of Tp etc..\n",
    "    TP = len(df.loc[P_pred & P_real])\n",
    "    TN = len(df.loc[N_pred & N_real])\n",
    "    FP = len(df.loc[P_pred & N_real])\n",
    "    FN = len(df.loc[N_pred & P_real])\n",
    "\n",
    "    TP_cost = 0\n",
    "    FN_cost = -2500\n",
    "    FP_cost = -500\n",
    "    TN_cost = 500\n",
    "\n",
    "    cost = TP * TP_cost\n",
    "    cost += TN * TN_cost\n",
    "    cost += FP * FP_cost\n",
    "    cost += FN * FN_cost\n",
    "\n",
    "    return cost\n",
    "\n",
    "#Function to optimize the best threshold/for every 'n' apply threshold values between 0-1000\n",
    "table = [cost_threshold(n/1000) for n in range(0,1000)]\n",
    "plt.plot(table)\n",
    "\n",
    "max_val = max(table)\n",
    "max_threshold = table.index(max_val)/1000\n",
    "print(f'The maximum gain is {max_val} with a threshold {max_threshold}')\n"
   ]
  },
  {
   "cell_type": "code",
   "execution_count": null,
   "metadata": {},
   "outputs": [],
   "source": [
    "threshold = 0.281\n",
    "print(\"Threshold =\", threshold)"
   ]
  },
  {
   "cell_type": "code",
   "execution_count": null,
   "metadata": {},
   "outputs": [],
   "source": [
    "export_csv = desc_order.to_csv (r'credit_prediction_errors analysis.csv', header=True)"
   ]
  }
 ],
 "metadata": {
  "kernelspec": {
   "display_name": "Python 3",
   "language": "python",
   "name": "python3"
  },
  "language_info": {
   "codemirror_mode": {
    "name": "ipython",
    "version": 3
   },
   "file_extension": ".py",
   "mimetype": "text/x-python",
   "name": "python",
   "nbconvert_exporter": "python",
   "pygments_lexer": "ipython3",
   "version": "3.7.4"
  },
  "toc": {
   "base_numbering": 1,
   "nav_menu": {},
   "number_sections": true,
   "sideBar": true,
   "skip_h1_title": false,
   "title_cell": "Table of Contents",
   "title_sidebar": "Contents",
   "toc_cell": false,
   "toc_position": {},
   "toc_section_display": true,
   "toc_window_display": false
  }
 },
 "nbformat": 4,
 "nbformat_minor": 2
}
