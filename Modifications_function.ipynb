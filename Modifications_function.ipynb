{
 "cells": [
  {
   "cell_type": "code",
   "execution_count": null,
   "metadata": {},
   "outputs": [],
   "source": [
    "def modification (dataframe):\n",
    "    \n",
    "    for row in [dataframe] :\n",
    "        row['MonthlyIncome'].fillna(0,inplace=True)\n",
    "        row['NumberOfDependents'].fillna(0,inplace=True)\n",
    "        row['NumberOfTotalTime'] = row['NumberOfTime30-59DaysPastDueNotWorse'] + row ['NumberOfTimes90DaysLate'] + row['NumberOfTime60-89DaysPastDueNotWorse']\n",
    "        row['MonthlyDebt'] = row ['DebtRatio'] * row ['MonthlyIncome']\n",
    "        row['MonthlyBalance'] = row ['MonthlyIncome'] - row ['MonthlyDebt']\n",
    "        row['RatioIncomeDependents'] = row['MonthlyIncome'] / row ['NumberOfDependents']\n",
    "    return dataframe"
   ]
  }
 ],
 "metadata": {
  "kernelspec": {
   "display_name": "Python 3",
   "language": "python",
   "name": "python3"
  },
  "language_info": {
   "codemirror_mode": {
    "name": "ipython",
    "version": 3
   },
   "file_extension": ".py",
   "mimetype": "text/x-python",
   "name": "python",
   "nbconvert_exporter": "python",
   "pygments_lexer": "ipython3",
   "version": "3.7.4"
  }
 },
 "nbformat": 4,
 "nbformat_minor": 2
}
