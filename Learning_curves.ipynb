{
 "cells": [
  {
   "cell_type": "markdown",
   "metadata": {},
   "source": [
    "- import all programs\n",
    "- import train 80.csv file and val/ create source and dataset\n",
    "- split every 10% (0.1 until 0.9)\n",
    "- train models: ensemble and deepnet\n",
    "- prediction on val 20%\n",
    "- AUC\n",
    "- add the deepnet curve"
   ]
  },
  {
   "cell_type": "code",
   "execution_count": 1,
   "metadata": {},
   "outputs": [],
   "source": [
    "import pandas as pd\n",
    "import matplotlib.pyplot as plt\n",
    "from pandas import read_csv\n",
    "import bigml.api\n",
    "from bigml.api import BigML\n",
    "api= BigML (project='project/5d94a52e5a213962e2000331')\n",
    "\n",
    "# train_set = read_csv('train_dataset_80.csv')\n",
    "# validation_set = read_csv('val.csv')"
   ]
  },
  {
   "cell_type": "markdown",
   "metadata": {},
   "source": [
    "### Create the source and dataset for the train_dataset_80"
   ]
  },
  {
   "cell_type": "code",
   "execution_count": 2,
   "metadata": {},
   "outputs": [
    {
     "data": {
      "text/plain": [
       "True"
      ]
     },
     "execution_count": 2,
     "metadata": {},
     "output_type": "execute_result"
    }
   ],
   "source": [
    "train_source = api.create_source('train_dataset_80.csv')\n",
    "api.ok(train_source)"
   ]
  },
  {
   "cell_type": "code",
   "execution_count": 3,
   "metadata": {},
   "outputs": [
    {
     "data": {
      "text/plain": [
       "True"
      ]
     },
     "execution_count": 3,
     "metadata": {},
     "output_type": "execute_result"
    }
   ],
   "source": [
    "train_dataset = api.create_dataset(train_source)\n",
    "api.ok(train_dataset)"
   ]
  },
  {
   "cell_type": "markdown",
   "metadata": {},
   "source": [
    "### Create the source and dataset for the val set"
   ]
  },
  {
   "cell_type": "code",
   "execution_count": 4,
   "metadata": {},
   "outputs": [
    {
     "data": {
      "text/plain": [
       "True"
      ]
     },
     "execution_count": 4,
     "metadata": {},
     "output_type": "execute_result"
    }
   ],
   "source": [
    "val_source = api.create_source('val.csv')\n",
    "api.ok(val_source)"
   ]
  },
  {
   "cell_type": "code",
   "execution_count": 5,
   "metadata": {},
   "outputs": [
    {
     "data": {
      "text/plain": [
       "True"
      ]
     },
     "execution_count": 5,
     "metadata": {},
     "output_type": "execute_result"
    }
   ],
   "source": [
    "val_dataset = api.create_dataset(val_source)\n",
    "api.ok(val_dataset)"
   ]
  },
  {
   "cell_type": "markdown",
   "metadata": {},
   "source": [
    "## Curve Nb_data Vs AUC"
   ]
  },
  {
   "cell_type": "code",
   "execution_count": 67,
   "metadata": {},
   "outputs": [
    {
     "data": {
      "text/plain": [
       "[<matplotlib.lines.Line2D at 0x7fdca9e43198>]"
      ]
     },
     "execution_count": 67,
     "metadata": {},
     "output_type": "execute_result"
    },
    {
     "data": {
      "image/png": "[encoded data removed]",
      "text/plain": [
       "<Figure size 432x288 with 1 Axes>"
      ]
     },
     "metadata": {
      "needs_background": "light"
     },
     "output_type": "display_data"
    }
   ],
   "source": [
    "#Create a function named sum_split_auc to compare the auc from different split (split_rate)\n",
    "def sum_split_auc(split_rate):\n",
    "    \n",
    "    # Split in function of the split_rate \n",
    "    train_set_splitted = api.create_dataset(train_dataset,\n",
    "        {\"name\": \"train_set_splitted\", \"sample_rate\": split_rate, \"seed\": \"my seed\"})\n",
    "    api.ok(train_set_splitted)\n",
    "    \n",
    "    #Train on the ensemble model\n",
    "    ensemble = api.create_ensemble(train_set_splitted, {\"objective_field\":\"SeriousDlqin2yrs\"})\n",
    "    api.ok(ensemble)\n",
    "    \n",
    "    #Prediction on the val_set\n",
    "    batch_prediction_val_set = api.create_batch_prediction(ensemble, val_dataset,\n",
    "        {\"header\": True, \"all_fields\": True,\"prediction_name\": \"my_prediction\", \"probabilities\": True})\n",
    "    api.ok(batch_prediction_val_set)\n",
    "    \n",
    "    api.download_batch_prediction(batch_prediction_val_set,filename = 'Prediction_val_set_split.csv')\n",
    "    \n",
    "    #Define the dataframe with the csv\n",
    "    df = pd.read_csv('Prediction_val_set_split.csv', index_col = 0)\n",
    "    \n",
    "    #Calculate the AUC\n",
    "    pos = df.loc[df['SeriousDlqin2yrs'] == 1]\n",
    "    neg = df.loc[df['SeriousDlqin2yrs'] == 0] \n",
    "    x = 0\n",
    "    y = 0\n",
    "    \n",
    "    for threshold_pos in pos['1 probability']: \n",
    "        for threshold_neg in neg['1 probability']:\n",
    "            if threshold_pos > threshold_neg:\n",
    "                x += 1 \n",
    "            y += 1  \n",
    "    return(x/y) #AUC formula\n",
    "    \n",
    "# Define the n = 1/10 (100/10, do ten time the split)/Create the table Perfomance: nb_data/AUC\n",
    "table = [sum_split_auc(n/10) for n in range(1,10)]\n",
    "plt.xlabel(\"nb_data\")\n",
    "plt.ylabel(\"AUC\")\n",
    "plt.title(\"Performance\")\n",
    "plt.plot(table)"
   ]
  },
  {
   "cell_type": "markdown",
   "metadata": {},
   "source": [
    "## AUC ensemble Vs AUC deepnet"
   ]
  },
  {
   "cell_type": "code",
   "execution_count": 6,
   "metadata": {},
   "outputs": [
    {
     "name": "stdout",
     "output_type": "stream",
     "text": [
      "0.8334016938354516\n",
      "0.7570473370393834\n",
      "0.8427321265247113\n",
      "0.7772554155429774\n",
      "0.8470304767131984\n",
      "0.7853700604409222\n",
      "0.8495236592094932\n",
      "0.7810068935369932\n",
      "0.8534391208335199\n",
      "0.7820496003043105\n",
      "0.8534654553950606\n",
      "0.7814735916218853\n",
      "0.8536855307544674\n",
      "0.7854416514341475\n",
      "0.8530620843938462\n",
      "0.7851421290473317\n",
      "0.8541814539958708\n",
      "0.7713515437860853\n"
     ]
    },
    {
     "data": {
      "text/plain": [
       "[<matplotlib.lines.Line2D at 0x7f3a47ca06d8>,\n",
       " <matplotlib.lines.Line2D at 0x7f3a47ca07b8>]"
      ]
     },
     "execution_count": 6,
     "metadata": {},
     "output_type": "execute_result"
    },
    {
     "data": {
      "image/png": "[encoded data removed]",
      "text/plain": [
       "<Figure size 432x288 with 1 Axes>"
      ]
     },
     "metadata": {
      "needs_background": "light"
     },
     "output_type": "display_data"
    }
   ],
   "source": [
    "def sum_split_auc(split_rate):\n",
    "    \n",
    "    # Split in function of the split_rate \n",
    "    train_set_splitted = api.create_dataset(train_dataset,\n",
    "        {\"name\": \"train_set_splitted\", \"sample_rate\": split_rate, \"seed\": \"my seed\"})\n",
    "    api.ok(train_set_splitted)\n",
    "    \n",
    "    #Train on the ensemble model\n",
    "    ensemble = api.create_ensemble(train_set_splitted, {\"objective_field\":\"SeriousDlqin2yrs\"})\n",
    "    api.ok(ensemble)\n",
    "    \n",
    "    #Prediction on the val_set_ensemble\n",
    "    batch_prediction_val_set_ensemble = api.create_batch_prediction(ensemble, val_dataset,\n",
    "        {\"header\": True, \"all_fields\": True,\"prediction_name\": \"my_prediction\", \"probabilities\": True})\n",
    "    api.ok(batch_prediction_val_set_ensemble)\n",
    "    \n",
    "    api.download_batch_prediction(batch_prediction_val_set_ensemble,filename = 'Prediction_val_set_split_ensemble.csv')\n",
    "    \n",
    "    #Define the dataframe with the csv\n",
    "    df_ensemble = pd.read_csv('Prediction_val_set_split_ensemble.csv', index_col = 0)\n",
    "    \n",
    "    #Calculate the AUC_ensemble\n",
    "    pos = df_ensemble.loc[df_ensemble['SeriousDlqin2yrs'] == 1]\n",
    "    neg = df_ensemble.loc[df_ensemble['SeriousDlqin2yrs'] == 0] \n",
    "    x = 0\n",
    "    y = 0\n",
    "    \n",
    "    for threshold_pos in pos['1 probability']: \n",
    "        for threshold_neg in neg['1 probability']:\n",
    "            if threshold_pos > threshold_neg:\n",
    "                x += 1 \n",
    "            y += 1 \n",
    "            auc_ensemble = x/y #AUC formula\n",
    "    print(auc_ensemble) \n",
    "\n",
    "    #Train on the deepnet model\n",
    "    deepnet = api.create_deepnet(train_set_splitted, {\"objective_field\":\"SeriousDlqin2yrs\"})\n",
    "    api.ok(deepnet)\n",
    "    \n",
    "    #Prediction on the val_set_deepnet\n",
    "    batch_prediction_val_set_deepnet = api.create_batch_prediction(deepnet, val_dataset,\n",
    "        {\"header\": True, \"all_fields\": True,\"prediction_name\": \"my_prediction\", \"probabilities\": True})\n",
    "    api.ok(batch_prediction_val_set_deepnet)\n",
    "    \n",
    "    api.download_batch_prediction(batch_prediction_val_set_deepnet,filename = 'Prediction_val_set_split_deepnet.csv')\n",
    "    \n",
    "    #Define the dataframe with the deepnet_csv\n",
    "    df_deepnet = pd.read_csv('Prediction_val_set_split_deepnet.csv', index_col = 0)\n",
    "    \n",
    "    #Calculate the AUC_deepnet\n",
    "    pos = df_deepnet.loc[df_deepnet['SeriousDlqin2yrs'] == 1]\n",
    "    neg = df_deepnet.loc[df_deepnet['SeriousDlqin2yrs'] == 0] \n",
    "    x = 0\n",
    "    y = 0\n",
    "    \n",
    "    for threshold_pos in pos['1 probability']: \n",
    "        for threshold_neg in neg['1 probability']:\n",
    "            if threshold_pos > threshold_neg:\n",
    "                x += 1 \n",
    "            y += 1 \n",
    "            auc_deepnet = x/y #AUC formula\n",
    "    print(auc_deepnet) \n",
    "    \n",
    "    return(auc_ensemble, auc_deepnet) #Return the two curves\n",
    "    \n",
    "    \n",
    "# Define the n = 1/10 (100/10, do ten time the split)/Create the table Perfomance: nb_data/AUC\n",
    "table = [sum_split_auc(n/10) for n in range(1,10)]\n",
    "plt.xlabel(\"nb_data\")\n",
    "plt.ylabel(\"AUC\")\n",
    "plt.title(\"Performance\")\n",
    "plt.plot(table)"
   ]
  },
  {
   "cell_type": "code",
   "execution_count": null,
   "metadata": {},
   "outputs": [],
   "source": []
  }
 ],
 "metadata": {
  "kernelspec": {
   "display_name": "Python 3",
   "language": "python",
   "name": "python3"
  },
  "language_info": {
   "codemirror_mode": {
    "name": "ipython",
    "version": 3
   },
   "file_extension": ".py",
   "mimetype": "text/x-python",
   "name": "python",
   "nbconvert_exporter": "python",
   "pygments_lexer": "ipython3",
   "version": "3.7.3"
  }
 },
 "nbformat": 4,
 "nbformat_minor": 2
}
