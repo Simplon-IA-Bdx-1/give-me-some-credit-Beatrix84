{
 "cells": [
  {
   "cell_type": "markdown",
   "metadata": {},
   "source": [
    "### Previously on Give-me-some-credit challenge\n",
    "- Download project from Kaggle\n",
    "- 1° submission to kaggle"
   ]
  },
  {
   "cell_type": "markdown",
   "metadata": {},
   "source": [
    "## Load datasets"
   ]
  },
  {
   "cell_type": "code",
   "execution_count": null,
   "metadata": {},
   "outputs": [],
   "source": [
    "from pandas import read_csv\n",
    "fulltrain = read_csv('https://oml-data.s3.amazonaws.com/kaggle-give-me-credit-train.csv', index_col=0)\n",
    "test = read_csv('../cs-test.csv', index_col=0)"
   ]
  },
  {
   "cell_type": "code",
   "execution_count": null,
   "metadata": {},
   "outputs": [],
   "source": [
    "fulltrain"
   ]
  },
  {
   "cell_type": "code",
   "execution_count": null,
   "metadata": {},
   "outputs": [],
   "source": [
    "test"
   ]
  },
  {
   "cell_type": "markdown",
   "metadata": {},
   "source": [
    "## Modifications on both fulltrain and test"
   ]
  },
  {
   "cell_type": "markdown",
   "metadata": {},
   "source": [
    "* Replace NaN values in certains features"
   ]
  },
  {
   "cell_type": "code",
   "execution_count": null,
   "metadata": {},
   "outputs": [],
   "source": [
    "for row in [fulltrain, test] :\n",
    "    row['MonthlyIncome'].fillna(0,inplace=True)"
   ]
  },
  {
   "cell_type": "code",
   "execution_count": null,
   "metadata": {},
   "outputs": [],
   "source": [
    "fulltrain"
   ]
  },
  {
   "cell_type": "code",
   "execution_count": null,
   "metadata": {},
   "outputs": [],
   "source": [
    "test"
   ]
  },
  {
   "cell_type": "code",
   "execution_count": null,
   "metadata": {},
   "outputs": [],
   "source": [
    "for row in [fulltrain, test] :\n",
    "    row['NumberOfDependents'].fillna(0,inplace=True) \n",
    "    #put inplace=true pour voir affichée la modification, si on le mettait pas on aura perdu la modif qui est restait en memoire"
   ]
  },
  {
   "cell_type": "code",
   "execution_count": null,
   "metadata": {},
   "outputs": [],
   "source": [
    "fulltrain"
   ]
  },
  {
   "cell_type": "markdown",
   "metadata": {},
   "source": [
    "* Create new features"
   ]
  },
  {
   "cell_type": "code",
   "execution_count": null,
   "metadata": {},
   "outputs": [],
   "source": [
    "for row in [fulltrain, test] :\n",
    "    row['NumberOfTotalTime'] = row['NumberOfTime30-59DaysPastDueNotWorse'] + row ['NumberOfTimes90DaysLate'] + row['NumberOfTime60-89DaysPastDueNotWorse']"
   ]
  },
  {
   "cell_type": "code",
   "execution_count": null,
   "metadata": {},
   "outputs": [],
   "source": [
    "row"
   ]
  },
  {
   "cell_type": "code",
   "execution_count": null,
   "metadata": {},
   "outputs": [],
   "source": [
    "for row in [fulltrain, test] :\n",
    "    row['MonthlyDebt'] = row ['DebtRatio'] * row ['MonthlyIncome']"
   ]
  },
  {
   "cell_type": "code",
   "execution_count": null,
   "metadata": {},
   "outputs": [],
   "source": [
    "row"
   ]
  },
  {
   "cell_type": "code",
   "execution_count": null,
   "metadata": {},
   "outputs": [],
   "source": [
    "for row in [fulltrain, test]:\n",
    "    row['MonthlyBalance'] = row ['MonthlyIncome'] - row ['MonthlyDebt']"
   ]
  },
  {
   "cell_type": "code",
   "execution_count": null,
   "metadata": {},
   "outputs": [],
   "source": [
    "row"
   ]
  },
  {
   "cell_type": "code",
   "execution_count": null,
   "metadata": {},
   "outputs": [],
   "source": [
    "for row in [fulltrain, test]:\n",
    "    row['RatioIncomeDependents'] = row['MonthlyIncome'] / row ['NumberOfDependents']"
   ]
  },
  {
   "cell_type": "code",
   "execution_count": null,
   "metadata": {},
   "outputs": [],
   "source": [
    "row"
   ]
  },
  {
   "cell_type": "code",
   "execution_count": null,
   "metadata": {},
   "outputs": [],
   "source": [
    "export_csv = fulltrain.to_csv (r'fulltrain_dataframe.csv', header=True)\n",
    "export_csv = test.to_csv (r'test_dataframe.csv', header=True)"
   ]
  },
  {
   "cell_type": "markdown",
   "metadata": {},
   "source": [
    "## Create a function for all modifications used"
   ]
  },
  {
   "cell_type": "code",
   "execution_count": null,
   "metadata": {},
   "outputs": [],
   "source": [
    "def modification (dataframe):\n",
    "    \n",
    "    for row in [dataframe] :\n",
    "        row['MonthlyIncome'].fillna(0,inplace=True)\n",
    "        row['NumberOfDependents'].fillna(0,inplace=True)\n",
    "        row['NumberOfTotalTime'] = row['NumberOfTime30-59DaysPastDueNotWorse'] + row ['NumberOfTimes90DaysLate'] + row['NumberOfTime60-89DaysPastDueNotWorse']\n",
    "        row['MonthlyDebt'] = row ['DebtRatio'] * row ['MonthlyIncome']\n",
    "        row['MonthlyBalance'] = row ['MonthlyIncome'] - row ['MonthlyDebt']\n",
    "        row['RatioIncomeDependents'] = row['MonthlyIncome'] / row ['NumberOfDependents']\n",
    "    return dataframe"
   ]
  }
 ],
 "metadata": {
  "kernelspec": {
   "display_name": "Python 3",
   "language": "python",
   "name": "python3"
  },
  "language_info": {
   "codemirror_mode": {
    "name": "ipython",
    "version": 3
   },
   "file_extension": ".py",
   "mimetype": "text/x-python",
   "name": "python",
   "nbconvert_exporter": "python",
   "pygments_lexer": "ipython3",
   "version": "3.7.4"
  },
  "toc": {
   "base_numbering": 1,
   "nav_menu": {},
   "number_sections": true,
   "sideBar": true,
   "skip_h1_title": false,
   "title_cell": "Table of Contents",
   "title_sidebar": "Contents",
   "toc_cell": false,
   "toc_position": {},
   "toc_section_display": true,
   "toc_window_display": false
  }
 },
 "nbformat": 4,
 "nbformat_minor": 2
}
