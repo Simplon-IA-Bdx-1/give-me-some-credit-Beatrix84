{
 "cells": [
  {
   "cell_type": "markdown",
   "metadata": {},
   "source": [
    "### Prediction on a nwe entry:\n",
    "\n",
    "We receive from a bank employee the following informations:\n",
    "\n",
    "\n",
    "{ \"RevolvingUtilizationOfUnsecuredLines\": 0.01703559, \n",
    "\"NumberOfDependents\": 1, \n",
    "\"DebtRatio\": 0, \n",
    "\"age\": 42, \n",
    "\"NumberOfOpenCreditLinesAndLoans\": 6, \n",
    "\"NumberRealEstateLoansOrLines\": 1, \n",
    "\"NumberOfTime30-59DaysPastDueNotWorse\": 1, \n",
    "\"NumberOfTime60-89DaysPastDueNotWorse\": 0, \n",
    "\"NumberOfTimes90DaysLate\": 0 }\n",
    "\n",
    "- Create a new test set with new data from one input\n",
    "- Do all modifications (same as the train_set)\n",
    "- BigMl:\n",
    "        - create sources\n",
    "        - create datasets\n",
    "        - train a model (ensemble) on the train_set\n",
    "        - prediction on the new test_set\n",
    "        - show the prediction\n",
    "\n"
   ]
  },
  {
   "cell_type": "code",
   "execution_count": null,
   "metadata": {},
   "outputs": [],
   "source": [
    "from pandas import read_csv\n",
    "import pandas as pd"
   ]
  },
  {
   "cell_type": "code",
   "execution_count": null,
   "metadata": {},
   "outputs": [],
   "source": [
    "# Create dataframe with columns\n",
    "df = pd.DataFrame(columns = ['Id',\n",
    " 'RevolvingUtilizationOfUnsecuredLines',\n",
    " 'age',\n",
    " 'NumberOfTime30-59DaysPastDueNotWorse',\n",
    " 'DebtRatio',\n",
    " 'MonthlyIncome',\n",
    " 'NumberOfOpenCreditLinesAndLoans',\n",
    " 'NumberOfTimes90DaysLate',\n",
    " 'NumberRealEstateLoansOrLines',\n",
    " 'NumberOfTime60-89DaysPastDueNotWorse',\n",
    " 'NumberOfDependents',\n",
    " 'SeriousDlqin2yrs',\n",
    " 'NumberCreditLines'])\n",
    "df"
   ]
  },
  {
   "cell_type": "code",
   "execution_count": null,
   "metadata": {},
   "outputs": [],
   "source": [
    "# Create dataframe with new input\n",
    "input = {'Id': [1],\n",
    "         'RevolvingUtilizationOfUnsecuredLines': [0.01703559], \n",
    "         'age': [42], \n",
    "         'NumberOfTime30-59DaysPastDueNotWorse': [1], \n",
    "         'DebtRatio': [0], \n",
    "         'NumberOfOpenCreditLinesAndLoans': [6], \n",
    "         'NumberOfTimes90DaysLate': [0], \n",
    "         'NumberRealEstateLoansOrLines': [1], \n",
    "         'NumberOfTime60-89DaysPastDueNotWorse': [0], \n",
    "         'NumberOfDependents': [1],\n",
    "       }\n",
    "df_input = pd.DataFrame.from_dict(input)\n",
    "df_input"
   ]
  },
  {
   "cell_type": "code",
   "execution_count": null,
   "metadata": {},
   "outputs": [],
   "source": [
    "#Concatenate to fill the table with new data\n",
    "df_exo = pd.concat([df, df_input], sort = False)\n",
    "df_exo"
   ]
  },
  {
   "cell_type": "code",
   "execution_count": null,
   "metadata": {},
   "outputs": [],
   "source": [
    "#Call the function for modifications and apply to exo dataframe\n",
    "from ipynb.fs.full.Modifications_function import modification\n",
    "\n",
    "df_change = modification(df_exo)\n",
    "df_change"
   ]
  },
  {
   "cell_type": "code",
   "execution_count": null,
   "metadata": {},
   "outputs": [],
   "source": [
    "export_csv = df_change.to_csv (r'exo_testset.csv', header=True)"
   ]
  },
  {
   "cell_type": "code",
   "execution_count": null,
   "metadata": {},
   "outputs": [],
   "source": [
    "import bigml.api\n",
    "from bigml.api import BigML\n",
    "api= BigML (project='project/5d94a52e5a213962e2000331')"
   ]
  },
  {
   "cell_type": "code",
   "execution_count": null,
   "metadata": {},
   "outputs": [],
   "source": [
    "# BigML prediction\n",
    "source = api.create_source('fulltrain_dataframe.csv')\n",
    "api.ok(source)\n",
    "dataset_train = api.create_dataset(source)\n",
    "api.ok(dataset_train)\n",
    "test_source = api.create_source('exo_testset.csv')\n",
    "api.ok(test_source)\n",
    "dataset_test = api.create_dataset(test_source)\n",
    "api.ok(dataset_test)\n",
    "model = api.create_ensemble(dataset_train, {\"objective_field\":\"SeriousDlqin2yrs\"})\n",
    "api.ok(model)\n",
    "batch_prediction = api.create_batch_prediction(model, dataset_test, {\"all_fields\": True, \"confidence\": True, \"probabilities\": True})\n",
    "api.ok(batch_prediction)\n",
    "api.download_batch_prediction(batch_prediction, filename='exo_prediction.csv')\n",
    "df_exo_final = pd.read_csv('exo_prediction.csv', index_col = 0)\n",
    "df_exo_final"
   ]
  },
  {
   "cell_type": "markdown",
   "metadata": {},
   "source": [
    "scikit-learn"
   ]
  },
  {
   "cell_type": "code",
   "execution_count": null,
   "metadata": {},
   "outputs": [],
   "source": [
    "from pandas import read_csv\n",
    "from pprint import pprint \n",
    "train_prepared = read_csv('fulltrain_dataframe.csv', index_col=0)\n",
    "val_prepared = read_csv('exo_testset.csv', index_col=0)"
   ]
  },
  {
   "cell_type": "code",
   "execution_count": null,
   "metadata": {},
   "outputs": [],
   "source": [
    "target_column = 'SeriousDlqin2yrs'\n",
    "y_train = train_prepared[target_column].values\n",
    "print(y_train)\n",
    "\n",
    "X_train = train_prepared.drop(target_column, axis=1).values\n",
    "pprint(X_train)"
   ]
  },
  {
   "cell_type": "code",
   "execution_count": null,
   "metadata": {},
   "outputs": [],
   "source": [
    "y_val = val_prepared[target_column].values\n",
    "X_val = val_prepared.drop(target_column, axis=1).values\n",
    "print(y_val)\n",
    "print(X_val)"
   ]
  },
  {
   "cell_type": "code",
   "execution_count": null,
   "metadata": {},
   "outputs": [],
   "source": [
    "import pickle\n",
    "from xgboost import XGBClassifier\n",
    "\n",
    "filename = 'sklearn_model.sav'\n",
    "loaded_model = pickle.load(open(filename, 'rb')) # Load the model already trained\n",
    "result = loaded_model.predict(X_val)\n",
    "print(result)\n",
    "\n",
    "y_val_proba = loaded_model.predict_proba(X_val)\n",
    "print(y_val_proba)\n",
    "y_val_proba = y_val_proba[:,1]\n",
    "print(y_val_proba)"
   ]
  },
  {
   "cell_type": "code",
   "execution_count": null,
   "metadata": {},
   "outputs": [],
   "source": [
    "proba = 0.04850933\n",
    "print(\"Probability =\", proba)"
   ]
  },
  {
   "cell_type": "code",
   "execution_count": null,
   "metadata": {},
   "outputs": [],
   "source": []
  }
 ],
 "metadata": {
  "kernelspec": {
   "display_name": "Python 3",
   "language": "python",
   "name": "python3"
  },
  "language_info": {
   "codemirror_mode": {
    "name": "ipython",
    "version": 3
   },
   "file_extension": ".py",
   "mimetype": "text/x-python",
   "name": "python",
   "nbconvert_exporter": "python",
   "pygments_lexer": "ipython3",
   "version": "3.7.4"
  }
 },
 "nbformat": 4,
 "nbformat_minor": 2
}
